{
 "cells": [
  {
   "cell_type": "code",
   "execution_count": 15,
   "metadata": {},
   "outputs": [
    {
     "name": "stdout",
     "output_type": "stream",
     "text": [
      "XGBoost 모델의 MSE: 0.23776223776223776\n"
     ]
    },
    {
     "name": "stderr",
     "output_type": "stream",
     "text": [
      "c:\\Users\\82103\\anaconda4\\envs\\myenv\\lib\\site-packages\\xgboost\\core.py:158: UserWarning: [00:40:40] WARNING: C:\\buildkite-agent\\builds\\buildkite-windows-cpu-autoscaling-group-i-0015a694724fa8361-1\\xgboost\\xgboost-ci-windows\\src\\learner.cc:740: \n",
      "Parameters: { \"use_label_encoder\" } are not used.\n",
      "\n",
      "  warnings.warn(smsg, UserWarning)\n"
     ]
    }
   ],
   "source": [
    "import seaborn as sns\n",
    "import pandas as pd\n",
    "from sklearn.model_selection import train_test_split\n",
    "import xgboost as xgb\n",
    "from sklearn.preprocessing import LabelEncoder\n",
    "from sklearn.preprocessing import StandardScaler\n",
    "from sklearn.metrics import mean_squared_error\n",
    "\n",
    "#4번 필수 과제 분량 시작\n",
    "\n",
    "\n",
    "#seaborn의 Titanic 데이터 로드\n",
    "titanic = sns.load_dataset('titanic')\n",
    "\n",
    "# 가족 크기 계산\n",
    "titanic['family_size'] = titanic['sibsp'] + titanic['parch']\n",
    "\n",
    "#학습에 필요한 feature\n",
    "titanic = titanic[['survived', 'pclass', 'sex', 'age', 'sibsp', 'parch', 'fare', 'embarked', 'family_size']]\n",
    "\n",
    "\n",
    "# 결측값 처리 / 임시로 진행했으니 과제 요구에 맞는 변환 필요, 과제 3-1 참고사항 확인\n",
    "titanic.dropna(inplace=True)\n",
    "\n",
    "#LabelEncoder로 object 타입인 열들을 숫자로 변환 / 임시로 진행했으니 과제 요구에 맞는 변환 필요, 과제 3-2 참고사항 확인\n",
    "label_encoder = LabelEncoder()\n",
    "titanic['sex'] = label_encoder.fit_transform(titanic['sex'])\n",
    "titanic['embarked'] = label_encoder.fit_transform(titanic['embarked'])\n",
    "\n",
    "#특성 데이터(X)와 타겟 데이터(y) 분리\n",
    "X = titanic.drop(columns=['survived'])  # 특성 데이터 (생존 여부를 제외한 나머지)\n",
    "y = titanic['survived']  # 타겟 데이터 (생존 여부)\n",
    "\n",
    "#학습 데이터와 테스트 데이터를 8:2 비율로 나눔\n",
    "X_train, X_test, y_train, y_test = train_test_split(X, y, test_size=0.2, random_state=42)\n",
    "\n",
    "#데이터 스케일링\n",
    "scaler = StandardScaler()\n",
    "X_train_scaled = scaler.fit_transform(X_train)\n",
    "X_test_scaled = scaler.transform(X_test)\n",
    "\n",
    "\n",
    "#XGBoost 분류 모델 생성 / 모델 확인 필요\n",
    "xgb_model = xgb.XGBClassifier(use_label_encoder=False, eval_metric='logloss')\n",
    "\n",
    "\n",
    "#모델 학습\n",
    "xgb_model.fit(X_train_scaled, y_train)\n",
    "\n",
    "#테스트 데이터로 예측\n",
    "y_pred_xgb = xgb_model.predict(X_test_scaled)\n",
    "\n",
    "#모델의 정확도 평가\n",
    "mse_xgb = mean_squared_error(y_test, y_pred_xgb)\n",
    "print(f'XGBoost 모델의 MSE: {mse_xgb}')"
   ]
  }
 ],
 "metadata": {
  "kernelspec": {
   "display_name": "python (myenv)",
   "language": "python",
   "name": "myenv"
  },
  "language_info": {
   "codemirror_mode": {
    "name": "ipython",
    "version": 3
   },
   "file_extension": ".py",
   "mimetype": "text/x-python",
   "name": "python",
   "nbconvert_exporter": "python",
   "pygments_lexer": "ipython3",
   "version": "3.8.20"
  }
 },
 "nbformat": 4,
 "nbformat_minor": 2
}
