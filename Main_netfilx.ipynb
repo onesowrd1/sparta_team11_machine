{
 "cells": [
  {
   "cell_type": "code",
   "execution_count": null,
   "id": "9db8154d",
   "metadata": {},
   "outputs": [],
   "source": [
    "import pandas as pd\n",
    "import numpy as np\n",
    "\n",
    "df = pd.read_csv(\"netflix_reviews.csv\")\n",
    "# read : 파일을 읽는 함수"
   ]
  },
  {
   "cell_type": "code",
   "execution_count": null,
   "id": "28197600",
   "metadata": {},
   "outputs": [],
   "source": [
    "df.head()\n",
    "\n",
    "# df.head = DataFrame 내의 처음 n 줄의 데이터 출력"
   ]
  },
  {
   "cell_type": "code",
   "execution_count": null,
   "id": "98d7ab20",
   "metadata": {},
   "outputs": [],
   "source": [
    "df_sh = data.shape\n",
    "df_index = data.columns\n",
    "\n",
    "print(f\"Shape of the dataset {df_sh}\")\n",
    "print(f\"Columns in the dataset: {df_index}\")"
   ]
  },
  {
   "cell_type": "code",
   "execution_count": null,
   "id": "4d11e625",
   "metadata": {},
   "outputs": [],
   "source": [
    "# 전처리 함수\n",
    "def preprocess_text(text):\n",
    "    if isinstance(text, float):\n",
    "        return \"\"\n",
    "    text = text.lower()  # 대문자를 소문자로\n",
    "    text = re.sub(r'[^\\w\\s]', '', text)  # 구두점 제거\n",
    "    text = re.sub(r'\\d+', '', text)  # 숫자 제거\n",
    "    text = text.strip()  # 띄어쓰기 제외하고 빈 칸 제거\n",
    "    return text\n",
    "\n",
    "df['content'] = df['content'].apply(lambda x: preprocess_text(x))\n",
    "# def preprocess_text : 텍스트를 정제하고 필요한 형태로 전처리"
   ]
  },
  {
   "cell_type": "code",
   "execution_count": null,
   "id": "a2d22d17",
   "metadata": {},
   "outputs": [],
   "source": [
    "# 결측값이 포함된 행 제거\n",
    "df_dropped_rows = df.dropna()\n",
    "\n",
    "# 결측값이 포함된 열 제거\n",
    "df_dropped_cols = df.dropna(axis=1)"
   ]
  },
  {
   "cell_type": "code",
   "execution_count": null,
   "id": "1e9b4e54",
   "metadata": {},
   "outputs": [],
   "source": [
    "df_dropped_rows"
   ]
  },
  {
   "cell_type": "code",
   "execution_count": null,
   "id": "d173a3cb",
   "metadata": {},
   "outputs": [],
   "source": []
  },
  {
   "cell_type": "code",
   "execution_count": null,
   "id": "1a7f4a7c",
   "metadata": {},
   "outputs": [],
   "source": []
  }
 ],
 "metadata": {
  "kernelspec": {
   "display_name": "Python 3 (ipykernel)",
   "language": "python",
   "name": "python3"
  },
  "language_info": {
   "codemirror_mode": {
    "name": "ipython",
    "version": 3
   },
   "file_extension": ".py",
   "mimetype": "text/x-python",
   "name": "python",
   "nbconvert_exporter": "python",
   "pygments_lexer": "ipython3",
   "version": "3.12.4"
  }
 },
 "nbformat": 4,
 "nbformat_minor": 5
}
