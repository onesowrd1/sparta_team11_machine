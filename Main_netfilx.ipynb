{
 "cells": [
  {
   "cell_type": "code",
   "execution_count": 2,
   "id": "a0a86a8f",
   "metadata": {},
   "outputs": [],
   "source": [
    "import pandas as pd\n",
    "import numpy as np\n",
    "\n",
    "df = pd.read_csv(\"netflix_reviews.csv\")\n",
    "# read : 파일을 읽는 함수"
   ]
  },
  {
   "cell_type": "code",
   "execution_count": 3,
   "id": "04b97a1f",
   "metadata": {},
   "outputs": [
    {
     "data": {
      "text/html": [
       "<div>\n",
       "<style scoped>\n",
       "    .dataframe tbody tr th:only-of-type {\n",
       "        vertical-align: middle;\n",
       "    }\n",
       "\n",
       "    .dataframe tbody tr th {\n",
       "        vertical-align: top;\n",
       "    }\n",
       "\n",
       "    .dataframe thead th {\n",
       "        text-align: right;\n",
       "    }\n",
       "</style>\n",
       "<table border=\"1\" class=\"dataframe\">\n",
       "  <thead>\n",
       "    <tr style=\"text-align: right;\">\n",
       "      <th></th>\n",
       "      <th>reviewId</th>\n",
       "      <th>userName</th>\n",
       "      <th>content</th>\n",
       "      <th>score</th>\n",
       "      <th>thumbsUpCount</th>\n",
       "      <th>reviewCreatedVersion</th>\n",
       "      <th>at</th>\n",
       "      <th>appVersion</th>\n",
       "    </tr>\n",
       "  </thead>\n",
       "  <tbody>\n",
       "    <tr>\n",
       "      <th>0</th>\n",
       "      <td>411500b0-ac01-4071-badf-8aa8a45d0f29</td>\n",
       "      <td>Priya S</td>\n",
       "      <td>With basic plan, Netflix can consider to allow...</td>\n",
       "      <td>2</td>\n",
       "      <td>0</td>\n",
       "      <td>8.137.0 build 4 50942</td>\n",
       "      <td>2024-10-22 14:16:52</td>\n",
       "      <td>8.137.0 build 4 50942</td>\n",
       "    </tr>\n",
       "    <tr>\n",
       "      <th>1</th>\n",
       "      <td>5ef1c68e-9d84-4afb-8c58-829a554dc89b</td>\n",
       "      <td>angel dolla</td>\n",
       "      <td>Good app for series.</td>\n",
       "      <td>5</td>\n",
       "      <td>0</td>\n",
       "      <td>8.137.0 build 4 50942</td>\n",
       "      <td>2024-10-22 14:04:30</td>\n",
       "      <td>8.137.0 build 4 50942</td>\n",
       "    </tr>\n",
       "    <tr>\n",
       "      <th>2</th>\n",
       "      <td>1fe7e31a-43d9-406e-94cd-549d019ec70f</td>\n",
       "      <td>CHRISTIAN SUMATRA</td>\n",
       "      <td>Laging wala mga movies na magaganda potangina ...</td>\n",
       "      <td>1</td>\n",
       "      <td>0</td>\n",
       "      <td>8.136.0 build 3 50908</td>\n",
       "      <td>2024-10-22 14:02:38</td>\n",
       "      <td>8.136.0 build 3 50908</td>\n",
       "    </tr>\n",
       "    <tr>\n",
       "      <th>3</th>\n",
       "      <td>c5cb0034-5395-417e-ad31-84c6ac79340b</td>\n",
       "      <td>Raghu Pathy</td>\n",
       "      <td>This app uses more data and it's asking withou...</td>\n",
       "      <td>1</td>\n",
       "      <td>0</td>\n",
       "      <td>8.136.0 build 3 50908</td>\n",
       "      <td>2024-10-22 13:57:12</td>\n",
       "      <td>8.136.0 build 3 50908</td>\n",
       "    </tr>\n",
       "    <tr>\n",
       "      <th>4</th>\n",
       "      <td>43257f77-7b9e-40b8-ac56-c87ff3130619</td>\n",
       "      <td>Rebecka Todd</td>\n",
       "      <td>Since the latest update i am not able to load ...</td>\n",
       "      <td>1</td>\n",
       "      <td>0</td>\n",
       "      <td>8.136.0 build 3 50908</td>\n",
       "      <td>2024-10-22 13:48:29</td>\n",
       "      <td>8.136.0 build 3 50908</td>\n",
       "    </tr>\n",
       "  </tbody>\n",
       "</table>\n",
       "</div>"
      ],
      "text/plain": [
       "                               reviewId           userName  \\\n",
       "0  411500b0-ac01-4071-badf-8aa8a45d0f29            Priya S   \n",
       "1  5ef1c68e-9d84-4afb-8c58-829a554dc89b        angel dolla   \n",
       "2  1fe7e31a-43d9-406e-94cd-549d019ec70f  CHRISTIAN SUMATRA   \n",
       "3  c5cb0034-5395-417e-ad31-84c6ac79340b        Raghu Pathy   \n",
       "4  43257f77-7b9e-40b8-ac56-c87ff3130619       Rebecka Todd   \n",
       "\n",
       "                                             content  score  thumbsUpCount  \\\n",
       "0  With basic plan, Netflix can consider to allow...      2              0   \n",
       "1                               Good app for series.      5              0   \n",
       "2  Laging wala mga movies na magaganda potangina ...      1              0   \n",
       "3  This app uses more data and it's asking withou...      1              0   \n",
       "4  Since the latest update i am not able to load ...      1              0   \n",
       "\n",
       "    reviewCreatedVersion                   at             appVersion  \n",
       "0  8.137.0 build 4 50942  2024-10-22 14:16:52  8.137.0 build 4 50942  \n",
       "1  8.137.0 build 4 50942  2024-10-22 14:04:30  8.137.0 build 4 50942  \n",
       "2  8.136.0 build 3 50908  2024-10-22 14:02:38  8.136.0 build 3 50908  \n",
       "3  8.136.0 build 3 50908  2024-10-22 13:57:12  8.136.0 build 3 50908  \n",
       "4  8.136.0 build 3 50908  2024-10-22 13:48:29  8.136.0 build 3 50908  "
      ]
     },
     "execution_count": 3,
     "metadata": {},
     "output_type": "execute_result"
    }
   ],
   "source": [
    "df.head()\n",
    "\n",
    "# df.head = DataFrame 내의 처음 n 줄의 데이터 출력"
   ]
  },
  {
   "cell_type": "code",
   "execution_count": 5,
   "id": "497ecd99",
   "metadata": {},
   "outputs": [
    {
     "name": "stdout",
     "output_type": "stream",
     "text": [
      "Shape of the dataset (117219, 8)\n",
      "Columns in the dataset: Index(['reviewId', 'userName', 'content', 'score', 'thumbsUpCount',\n",
      "       'reviewCreatedVersion', 'at', 'appVersion'],\n",
      "      dtype='object')\n"
     ]
    }
   ],
   "source": [
    "df_sh = df.shape\n",
    "df_index = df.columns\n",
    "\n",
    "print(f\"Shape of the dataset {df_sh}\")\n",
    "print(f\"Columns in the dataset: {df_index}\")"
   ]
  },
  {
   "cell_type": "code",
   "execution_count": 7,
   "id": "869a94e1",
   "metadata": {},
   "outputs": [],
   "source": [
    "# 전처리 함수\n",
    "import re\n",
    "\n",
    "def preprocess_text(text):\n",
    "    if isinstance(text, float):\n",
    "        return \"\"\n",
    "    text = text.lower()  # 대문자를 소문자로\n",
    "    text = re.sub(r'[^\\w\\s]', '', text)  # 구두점 제거\n",
    "    text = re.sub(r'\\d+', '', text)  # 숫자 제거\n",
    "    text = text.strip()  # 띄어쓰기 제외하고 빈 칸 제거\n",
    "    return text\n",
    "\n",
    "df['content'] = df['content'].apply(lambda x: preprocess_text(x))\n",
    "# def preprocess_text : 텍스트를 정제하고 필요한 형태로 전처리"
   ]
  },
  {
   "cell_type": "code",
   "execution_count": 8,
   "id": "079b8263",
   "metadata": {},
   "outputs": [],
   "source": [
    "# 결측값이 포함된 행 제거\n",
    "df_dropped_rows = df.dropna()\n",
    "\n",
    "# 결측값이 포함된 열 제거\n",
    "df_dropped_cols = df.dropna(axis=1)"
   ]
  },
  {
   "cell_type": "code",
   "execution_count": null,
   "id": "a5238c97",
   "metadata": {},
   "outputs": [],
   "source": [
    "df_dropped_rows"
   ]
  },
  {
   "cell_type": "code",
   "execution_count": 9,
   "id": "ece070ae",
   "metadata": {},
   "outputs": [
    {
     "name": "stderr",
     "output_type": "stream",
     "text": [
      "C:\\Users\\USER\\AppData\\Local\\Temp\\ipykernel_24364\\1271097762.py:11: FutureWarning: \n",
      "\n",
      "Passing `palette` without assigning `hue` is deprecated and will be removed in v0.14.0. Assign the `x` variable to `hue` and set `legend=False` for the same effect.\n",
      "\n",
      "  sns.barplot(x=score_counts.index, y=score_counts.values, palette='viridis')\n"
     ]
    },
    {
     "data": {
      "image/png": "[encoded data removed]",
      "text/plain": [
       "<Figure size 1000x700 with 1 Axes>"
      ]
     },
     "metadata": {},
     "output_type": "display_data"
    }
   ],
   "source": [
    "import seaborn as sns  # 시각화 라이브러리\n",
    "import matplotlib.pyplot as plt  # 그래프 표시 라이브러리\n",
    "\n",
    "# 리뷰 점수 빈도 계산\n",
    "score_counts = df['score'].value_counts()\n",
    "\n",
    "# 그래프 만들기\n",
    "plt.figure(figsize=(10, 7))\n",
    "# 색상 넣기는 강의 자료에서 찾았습니다. palette = 'viridis'\n",
    "# X축에 점수, Y축에 해당 점수의 개수\n",
    "sns.barplot(x=score_counts.index, y=score_counts.values, palette='viridis')  \n",
    "plt.xlabel('Score')  # X축 레이블\n",
    "plt.ylabel('Count')  # Y축 레이블\n",
    "plt.title('Distribution of Review Scores')  # 그래프 제목\n",
    "plt.show()"
   ]
  },
  {
   "cell_type": "code",
   "execution_count": null,
   "id": "2893156f",
   "metadata": {},
   "outputs": [],
   "source": []
  }
 ],
 "metadata": {
  "kernelspec": {
   "display_name": "Python 3 (ipykernel)",
   "language": "python",
   "name": "python3"
  },
  "language_info": {
   "codemirror_mode": {
    "name": "ipython",
    "version": 3
   },
   "file_extension": ".py",
   "mimetype": "text/x-python",
   "name": "python",
   "nbconvert_exporter": "python",
   "pygments_lexer": "ipython3",
   "version": "3.12.4"
  }
 },
 "nbformat": 4,
 "nbformat_minor": 5
}
