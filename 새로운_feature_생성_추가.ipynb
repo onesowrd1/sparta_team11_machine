{
 "cells": [
  {
   "cell_type": "code",
   "execution_count": 114,
   "id": "83281fa3-ae36-42f0-9fdc-71c15be89039",
   "metadata": {},
   "outputs": [
    {
     "name": "stdout",
     "output_type": "stream",
     "text": [
      "     survived  pclass     sex   age  sibsp  parch     fare embarked   class  \\\n",
      "0           0       3    male  22.0      1      0   7.2500        S   Third   \n",
      "1           1       1  female  38.0      1      0  71.2833        C   First   \n",
      "2           1       3  female  26.0      0      0   7.9250        S   Third   \n",
      "3           1       1  female  35.0      1      0  53.1000        S   First   \n",
      "4           0       3    male  35.0      0      0   8.0500        S   Third   \n",
      "..        ...     ...     ...   ...    ...    ...      ...      ...     ...   \n",
      "886         0       2    male  27.0      0      0  13.0000        S  Second   \n",
      "887         1       1  female  19.0      0      0  30.0000        S   First   \n",
      "888         0       3  female   NaN      1      2  23.4500        S   Third   \n",
      "889         1       1    male  26.0      0      0  30.0000        C   First   \n",
      "890         0       3    male  32.0      0      0   7.7500        Q   Third   \n",
      "\n",
      "       who  adult_male deck  embark_town alive  alone  \n",
      "0      man        True  NaN  Southampton    no  False  \n",
      "1    woman       False    C    Cherbourg   yes  False  \n",
      "2    woman       False  NaN  Southampton   yes   True  \n",
      "3    woman       False    C  Southampton   yes  False  \n",
      "4      man        True  NaN  Southampton    no   True  \n",
      "..     ...         ...  ...          ...   ...    ...  \n",
      "886    man        True  NaN  Southampton    no   True  \n",
      "887  woman       False    B  Southampton   yes   True  \n",
      "888  woman       False  NaN  Southampton    no  False  \n",
      "889    man        True    C    Cherbourg   yes   True  \n",
      "890    man        True  NaN   Queenstown    no   True  \n",
      "\n",
      "[891 rows x 15 columns]\n"
     ]
    }
   ],
   "source": [
    "import seaborn as sns\n",
    "\n",
    "titanic = sns.load_dataset('titanic')\n",
    "\n",
    "print(data)"
   ]
  },
  {
   "cell_type": "code",
   "execution_count": 116,
   "id": "0aa000d1-b440-4c44-8fe9-cf8f8ce40a9e",
   "metadata": {},
   "outputs": [
    {
     "name": "stdout",
     "output_type": "stream",
     "text": [
      "Age 열의 결측값 개수: 0\n",
      "Embarked 열의 결측값 개수: 0\n"
     ]
    }
   ],
   "source": [
    "# Age 열의 결측치를 중앙값으로 대체\n",
    "titanic['age'] = titanic['age'].fillna(titanic['age'].median())\n",
    "\n",
    "# Embarked 열의 결측치를 최빈값으로 대체\n",
    "titanic['embarked'] = titanic['embarked'].fillna(titanic['embarked'].mode()[0])\n",
    "\n",
    "# 결측값 처리 결과 확인\n",
    "print(\"Age 열의 결측값 개수:\", titanic['age'].isnull().sum())\n",
    "print(\"Embarked 열의 결측값 개수:\", titanic['embarked'].isnull().sum())"
   ]
  },
  {
   "cell_type": "code",
   "execution_count": 118,
   "id": "c1d3954f-504e-4c9b-a6fb-75e470f6ea31",
   "metadata": {},
   "outputs": [
    {
     "name": "stdout",
     "output_type": "stream",
     "text": [
      "   sex  alive  embarked\n",
      "0    0      0         2\n",
      "1    1      1         0\n",
      "2    1      1         2\n",
      "3    1      1         2\n",
      "4    0      0         2\n"
     ]
    }
   ],
   "source": [
    "# Sex(성별) 열을 남자는 0, 여자는 1로 변환\n",
    "titanic['sex'] = titanic['sex'].map({'male': 0, 'female': 1})\n",
    "\n",
    "# Alive(생존 여부) 열을 yes는 1, no는 0으로 변환\n",
    "titanic['alive'] = titanic['alive'].map({'yes': 1, 'no': 0})\n",
    "\n",
    "# Embarked(승선 항구) 열을 'C'는 0, 'Q'는 1, 'S'는 2로 변환\n",
    "titanic['embarked'] = titanic['embarked'].map({'C': 0, 'Q': 1, 'S': 2})\n",
    "\n",
    "# 변환 후 데이터 확인\n",
    "print(titanic[['sex', 'alive', 'embarked']].head())"
   ]
  },
  {
   "cell_type": "code",
   "execution_count": 122,
   "id": "98dde826-15b1-4411-a1cb-d1b468d5e758",
   "metadata": {},
   "outputs": [
    {
     "name": "stdout",
     "output_type": "stream",
     "text": [
      "0    2\n",
      "1    2\n",
      "2    1\n",
      "3    2\n",
      "4    1\n",
      "Name: family_size, dtype: int64\n"
     ]
    }
   ],
   "source": [
    "#SibSip(타이타닉호에 동승한 자매 및 배우자의 수), Parch(타이타닉호에 동승한 부모 및 자식의 수)를 통해서 family_size(가족크기)를 생성\n",
    "titanic['family_size'] = titanic['sibsp'] + titanic['parch'] + 1\n",
    "\n",
    "#생성된 family_size feature 출력\n",
    "print(titanic['family_size'].head())"
   ]
  },
  {
   "cell_type": "code",
   "execution_count": null,
   "id": "d2fc6bd4-d54c-42b2-a0f0-ae7c4341d7f0",
   "metadata": {},
   "outputs": [],
   "source": []
  }
 ],
 "metadata": {
  "kernelspec": {
   "display_name": "Python 3 (ipykernel)",
   "language": "python",
   "name": "python3"
  },
  "language_info": {
   "codemirror_mode": {
    "name": "ipython",
    "version": 3
   },
   "file_extension": ".py",
   "mimetype": "text/x-python",
   "name": "python",
   "nbconvert_exporter": "python",
   "pygments_lexer": "ipython3",
   "version": "3.12.4"
  }
 },
 "nbformat": 4,
 "nbformat_minor": 5
}
