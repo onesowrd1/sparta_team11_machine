{
 "cells": [
  {
   "cell_type": "code",
   "execution_count": 2,
   "metadata": {},
   "outputs": [
    {
     "ename": "NameError",
     "evalue": "name 'dt_model' is not defined",
     "output_type": "error",
     "traceback": [
      "\u001b[1;31m---------------------------------------------------------------------------\u001b[0m",
      "\u001b[1;31mNameError\u001b[0m                                 Traceback (most recent call last)",
      "Cell \u001b[1;32mIn[2], line 47\u001b[0m\n\u001b[0;32m     44\u001b[0m model \u001b[38;5;241m=\u001b[39m DecisionTreeClassifier(random_state\u001b[38;5;241m=\u001b[39m\u001b[38;5;241m42\u001b[39m)\n\u001b[0;32m     46\u001b[0m \u001b[38;5;66;03m#모델 학습\u001b[39;00m\n\u001b[1;32m---> 47\u001b[0m \u001b[43mdt_model\u001b[49m\u001b[38;5;241m.\u001b[39mfit(X_train, y_train)\n\u001b[0;32m     49\u001b[0m \u001b[38;5;66;03m#테스트 데이터로 예측\u001b[39;00m\n\u001b[0;32m     50\u001b[0m y_pred \u001b[38;5;241m=\u001b[39m dt_model\u001b[38;5;241m.\u001b[39mpredict(X_test)\n",
      "\u001b[1;31mNameError\u001b[0m: name 'dt_model' is not defined"
     ]
    }
   ],
   "source": [
    "import seaborn as sns\n",
    "import pandas as pd\n",
    "from sklearn.model_selection import train_test_split\n",
    "from sklearn.preprocessing import LabelEncoder\n",
    "from sklearn.preprocessing import StandardScaler\n",
    "from sklearn.metrics import accuracy_score, classification_report, confusion_matrix\n",
    "from sklearn.tree import DecisionTreeClassifier\n",
    "\n",
    "\n",
    "#4번 필수 과제 분량 시작\n",
    "\n",
    "\n",
    "#seaborn의 Titanic 데이터 로드\n",
    "titanic = sns.load_dataset('titanic')\n",
    "\n",
    "# 가족 크기 계산\n",
    "titanic['family_size'] = titanic['sibsp'] + titanic['parch']\n",
    "\n",
    "#학습에 필요한 feature\n",
    "titanic = titanic[['survived', 'pclass', 'sex', 'age', 'sibsp', 'parch', 'fare', 'embarked', 'family_size']]\n",
    "\n",
    "\n",
    "# 결측값 처리 / 임시로 진행했으니 과제 요구에 맞는 변환 필요, 과제 3-1 참고사항 확인\n",
    "titanic.dropna(inplace=True)\n",
    "\n",
    "#LabelEncoder로 object 타입인 열들을 숫자로 변환 / 임시로 진행했으니 과제 요구에 맞는 변환 필요, 과제 3-2 참고사항 확인\n",
    "label_encoder = LabelEncoder()\n",
    "titanic['sex'] = label_encoder.fit_transform(titanic['sex'])\n",
    "titanic['embarked'] = label_encoder.fit_transform(titanic['embarked'])\n",
    "\n",
    "#특성 데이터(X)와 타겟 데이터(y) 분리\n",
    "X = titanic.drop(columns=['survived'])  # 특성 데이터 (생존 여부를 제외한 나머지)\n",
    "y = titanic['survived']  # 타겟 데이터 (생존 여부)\n",
    "\n",
    "#학습 데이터와 테스트 데이터를 8:2 비율로 나눔\n",
    "X_train, X_test, y_train, y_test = train_test_split(X, y, test_size=0.2, random_state=42)\n",
    "\n",
    "#데이터 스케일링\n",
    "scaler = StandardScaler()\n",
    "X_train_scaled = scaler.fit_transform(X_train)\n",
    "X_test_scaled = scaler.transform(X_test)\n",
    "\n",
    "# DecisionTreeClassifier 분류 모델 생성\n",
    "dt_model = DecisionTreeClassifier(random_state=42)\n",
    "\n",
    "#모델 학습\n",
    "dt_model.fit(X_train, y_train)\n",
    "\n",
    "#테스트 데이터로 예측\n",
    "y_pred = dt_model.predict(X_test)\n",
    "\n",
    "# 모델의 평가\n",
    "print(f\"Accuracy: {accuracy_score(y_test, y_pred)}\")\n",
    "print(f\"Classification Report:\\n{classification_report(y_test, y_pred)}\")\n",
    "print(f\"Confusion Matrix:\\n{confusion_matrix(y_test, y_pred)}\")"
   ]
  }
 ],
 "metadata": {
  "kernelspec": {
   "display_name": "python (myenv)",
   "language": "python",
   "name": "myenv"
  },
  "language_info": {
   "codemirror_mode": {
    "name": "ipython",
    "version": 3
   },
   "file_extension": ".py",
   "mimetype": "text/x-python",
   "name": "python",
   "nbconvert_exporter": "python",
   "pygments_lexer": "ipython3",
   "version": "3.8.20"
  }
 },
 "nbformat": 4,
 "nbformat_minor": 2
}
